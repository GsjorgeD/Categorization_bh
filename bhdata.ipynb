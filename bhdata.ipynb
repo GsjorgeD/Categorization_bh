{
 "cells": [
  {
   "cell_type": "markdown",
   "id": "bearing-morocco",
   "metadata": {},
   "source": [
    "# About: Using Challenge's Data\n",
    "\n",
    "Here, we are going to load data from kaggle source and implement the models of the ``model_training.ipynb`` file."
   ]
  },
  {
   "cell_type": "code",
   "execution_count": 1,
   "id": "nutritional-cardiff",
   "metadata": {
    "ExecuteTime": {
     "end_time": "2022-03-13T13:23:54.186043Z",
     "start_time": "2022-03-13T13:23:52.708091Z"
    }
   },
   "outputs": [],
   "source": [
    "import numpy as np\n",
    "from sklearn.datasets import fetch_openml\n",
    "import seaborn as sns\n",
    "from collections import Counter, OrderedDict\n",
    "import matplotlib.pyplot as plt\n",
    "import matplotlib.pylab as pylab\n",
    "from sklearn import linear_model, metrics\n",
    "import statsmodels.api as sm\n",
    "from sklearn.discriminant_analysis import LinearDiscriminantAnalysis, QuadraticDiscriminantAnalysis\n",
    "from sklearn.preprocessing import StandardScaler, Normalizer\n",
    "from sklearn.svm import SVC # Support vector classifier\n",
    "from sklearn.decomposition import PCA\n",
    "from sklearn.model_selection import cross_val_score, train_test_split, KFold, StratifiedKFold, GridSearchCV\n",
    "from sklearn.neural_network import MLPClassifier\n",
    "from sklearn import tree\n",
    "from sklearn.tree import DecisionTreeClassifier\n",
    "from sklearn.ensemble import AdaBoostClassifier\n",
    "\n",
    "from os import walk\n",
    "import cv2\n",
    "import matplotlib.image as mpimg\n",
    "import pandas as pd\n",
    "import matplotlib.pyplot as plt"
   ]
  },
  {
   "cell_type": "markdown",
   "id": "social-motion",
   "metadata": {},
   "source": [
    "# Data Preparation\n",
    "Loading the images with the same color channel (Gray scale)"
   ]
  },
  {
   "cell_type": "code",
   "execution_count": 2,
   "id": "juvenile-bennett",
   "metadata": {
    "ExecuteTime": {
     "end_time": "2022-03-13T13:24:13.872024Z",
     "start_time": "2022-03-13T13:23:56.556559Z"
    }
   },
   "outputs": [],
   "source": [
    "data_path = \"Imagesv2\"\n",
    "_, _, train_filenames = next(walk(data_path + \"/Train/\"))\n",
    "_, _, test_filenames = next(walk(data_path + \"/Test/\"))\n",
    "train_filenames.sort()\n",
    "test_filenames.sort()\n",
    "#train_image = cv2.imread(data_path + \"/Train\")\n",
    "train_images = np.array([cv2.imread(data_path + \"/Train/\" + filename, cv2.IMREAD_GRAYSCALE) for filename in train_filenames])\n",
    "test_images = np.array([cv2.imread(data_path + \"/Test/\" + filename, cv2.IMREAD_GRAYSCALE) for filename in test_filenames])"
   ]
  },
  {
   "cell_type": "code",
   "execution_count": 3,
   "id": "finnish-athens",
   "metadata": {
    "ExecuteTime": {
     "end_time": "2022-03-13T13:24:13.942963Z",
     "start_time": "2022-03-13T13:24:13.874900Z"
    }
   },
   "outputs": [],
   "source": [
    "#get labels\n",
    "labels = pd.read_csv(data_path + \"/train_labels.csv\")\n",
    "labels.head()\n",
    "y = list(labels[\"Category\"])"
   ]
  },
  {
   "cell_type": "code",
   "execution_count": 86,
   "id": "early-costa",
   "metadata": {
    "ExecuteTime": {
     "end_time": "2022-03-13T13:18:36.018341Z",
     "start_time": "2022-03-13T13:18:35.777933Z"
    }
   },
   "outputs": [
    {
     "data": {
      "text/plain": [
       "<matplotlib.image.AxesImage at 0x7f92e9009730>"
      ]
     },
     "execution_count": 86,
     "metadata": {},
     "output_type": "execute_result"
    },
    {
     "data": {
      "image/png": "[encoded data removed]",
      "text/plain": [
       "<Figure size 864x432 with 1 Axes>"
      ]
     },
     "metadata": {},
     "output_type": "display_data"
    }
   ],
   "source": [
    "plt.imshow(train_images[0])"
   ]
  },
  {
   "cell_type": "code",
   "execution_count": 89,
   "id": "adjusted-finger",
   "metadata": {
    "ExecuteTime": {
     "end_time": "2022-03-13T13:19:58.274169Z",
     "start_time": "2022-03-13T13:19:58.040652Z"
    }
   },
   "outputs": [
    {
     "data": {
      "text/plain": [
       "<matplotlib.image.AxesImage at 0x7f92e92185b0>"
      ]
     },
     "execution_count": 89,
     "metadata": {},
     "output_type": "execute_result"
    },
    {
     "data": {
      "image/png": "[encoded data removed]",
      "text/plain": [
       "<Figure size 864x432 with 1 Axes>"
      ]
     },
     "metadata": {},
     "output_type": "display_data"
    }
   ],
   "source": [
    "binary_image = train_images[0]\n",
    "min_value = np.min(binary_image)\n",
    "binary_image[binary_image == 22] = 0\n",
    "binary_image[binary_image != 0] = 1\n",
    "#train_binary_images.append(binary_image)\n",
    "plt.imshow(binary_image)"
   ]
  },
  {
   "cell_type": "markdown",
   "id": "atomic-harmony",
   "metadata": {},
   "source": [
    "## Boolean masking\n",
    "After noticing that the minimum (maximum) value of train images is 22 (220) and the minimum (maximum) value of the test images is 0 (255) we put the images in a boolean masking that put 0 value when we have 22 as minimum value, and we put 1 when there is a color distinct to dark."
   ]
  },
  {
   "cell_type": "code",
   "execution_count": 4,
   "id": "romantic-status",
   "metadata": {
    "ExecuteTime": {
     "end_time": "2022-03-13T13:24:16.505242Z",
     "start_time": "2022-03-13T13:24:13.947227Z"
    }
   },
   "outputs": [],
   "source": [
    "#min pixel from \n",
    "train_binary_images = []\n",
    "test_binary_images = []\n",
    "for train_image in train_images:\n",
    "    #we add 0 to dark parts of the image and 1 to non-dark parts\n",
    "    binary_image = train_image\n",
    "    min_value = np.min(binary_image)\n",
    "    binary_image[binary_image == 22] = 0\n",
    "    binary_image[binary_image != 0] = 1\n",
    "    train_binary_images.append(binary_image)\n",
    "    \n",
    "for test_image in test_images:\n",
    "    #we add 0 to dark parts of the image and 1 to non-dark parts\n",
    "    binary_image = test_image\n",
    "    min_value = np.min(binary_image)\n",
    "    binary_image[binary_image != 0] = 1\n",
    "    test_binary_images.append(binary_image)"
   ]
  },
  {
   "cell_type": "markdown",
   "id": "dynamic-insert",
   "metadata": {},
   "source": [
    "## Normalization"
   ]
  },
  {
   "cell_type": "code",
   "execution_count": 7,
   "id": "hungry-going",
   "metadata": {
    "ExecuteTime": {
     "end_time": "2022-03-13T02:59:29.839878Z",
     "start_time": "2022-03-13T02:59:14.030416Z"
    }
   },
   "outputs": [],
   "source": [
    "normalizer = Normalizer()\n",
    "\n",
    "train_normal_images = []\n",
    "test_normal_images = []\n",
    "\n",
    "for train_image in train_images:\n",
    "    #we add 0 to dark parts of the image and 1 to non-dark parts\n",
    "    normal_image = normalizer.fit_transform(train_image)\n",
    "    train_normal_images.append(normal_image)\n",
    "    \n",
    "for test_image in test_images:\n",
    "    #we add 0 to dark parts of the image and 1 to non-dark parts\n",
    "    normal_image = normalizer.fit_transform(test_image)\n",
    "    test_normal_images.append(normal_image)\n",
    "\n",
    "train_normal_images = np.array(train_normal_images)\n",
    "test_normal_images = np.array(test_normal_images)"
   ]
  },
  {
   "cell_type": "markdown",
   "id": "distinguished-visibility",
   "metadata": {},
   "source": [
    "## Flattening data"
   ]
  },
  {
   "cell_type": "code",
   "execution_count": 5,
   "id": "differential-transfer",
   "metadata": {
    "ExecuteTime": {
     "end_time": "2022-03-13T13:24:17.252932Z",
     "start_time": "2022-03-13T13:24:16.934726Z"
    }
   },
   "outputs": [],
   "source": [
    "flatten_train = []\n",
    "for image in train_binary_images:\n",
    "    flatten_train.append(np.array(image).flatten())    \n",
    "flatten_test = []\n",
    "for image in test_binary_images:\n",
    "    flatten_test.append(np.array(image).flatten())    \n",
    "\n",
    "flatten_train = np.array(flatten_train)\n",
    "flatten_test = np.array(flatten_test)"
   ]
  },
  {
   "cell_type": "markdown",
   "id": "pleased-allen",
   "metadata": {},
   "source": [
    "## Scaling"
   ]
  },
  {
   "cell_type": "code",
   "execution_count": 5,
   "id": "liable-tomato",
   "metadata": {
    "ExecuteTime": {
     "end_time": "2022-03-13T02:35:59.315358Z",
     "start_time": "2022-03-13T02:35:57.974690Z"
    }
   },
   "outputs": [
    {
     "data": {
      "text/plain": [
       "(10000, 784)"
      ]
     },
     "execution_count": 5,
     "metadata": {},
     "output_type": "execute_result"
    }
   ],
   "source": [
    "scaler = StandardScaler()\n",
    "scaled_train_images = scaler.fit_transform(flatten_train)\n",
    "scaled_test_images = scaler.fit_transform(flatten_test)\n",
    "scaled_test_images.shape"
   ]
  },
  {
   "cell_type": "code",
   "execution_count": 25,
   "id": "accessible-cleaning",
   "metadata": {
    "ExecuteTime": {
     "end_time": "2022-03-13T03:22:23.631508Z",
     "start_time": "2022-03-13T03:22:16.716520Z"
    }
   },
   "outputs": [],
   "source": [
    "pca = PCA(50)\n",
    "\n",
    "train_pca = pca.fit_transform(flatten_train)\n",
    "test_pca = pca.fit_transform(flatten_test)\n"
   ]
  },
  {
   "cell_type": "markdown",
   "id": "popular-comfort",
   "metadata": {},
   "source": [
    "## Visualizing some digits"
   ]
  },
  {
   "cell_type": "code",
   "execution_count": 8,
   "id": "enclosed-public",
   "metadata": {
    "ExecuteTime": {
     "end_time": "2022-03-13T02:36:24.370835Z",
     "start_time": "2022-03-13T02:36:24.028490Z"
    }
   },
   "outputs": [
    {
     "name": "stdout",
     "output_type": "stream",
     "text": [
      "7\n"
     ]
    },
    {
     "data": {
      "text/plain": [
       "<matplotlib.image.AxesImage at 0x7f1f26dc1ca0>"
      ]
     },
     "execution_count": 8,
     "metadata": {},
     "output_type": "execute_result"
    },
    {
     "data": {
      "image/png": "[encoded data removed]",
      "text/plain": [
       "<Figure size 432x288 with 1 Axes>"
      ]
     },
     "metadata": {},
     "output_type": "display_data"
    }
   ],
   "source": [
    "k = 0\n",
    "\n",
    "print(y_test[k])\n",
    "plt.imshow(flatten_test[5].reshape((28,28)))\n",
    "#plt.imshow(flatten_train[0].reshape((28,28)))\n",
    "\n",
    "\n"
   ]
  },
  {
   "cell_type": "markdown",
   "id": "integral-drunk",
   "metadata": {},
   "source": [
    "# Training some models"
   ]
  },
  {
   "cell_type": "markdown",
   "id": "dense-april",
   "metadata": {},
   "source": [
    "## Splitting data into train-test datasets"
   ]
  },
  {
   "cell_type": "code",
   "execution_count": 6,
   "id": "willing-series",
   "metadata": {
    "ExecuteTime": {
     "end_time": "2022-03-13T13:24:28.877371Z",
     "start_time": "2022-03-13T13:24:28.823203Z"
    }
   },
   "outputs": [],
   "source": [
    "X_train, X_test, y_train, y_test = train_test_split(flatten_train, y,\n",
    "                                                                     test_size = 0.2,\n",
    "                                                                     random_state = 42)\n"
   ]
  },
  {
   "cell_type": "code",
   "execution_count": 7,
   "id": "chubby-religious",
   "metadata": {
    "ExecuteTime": {
     "end_time": "2022-03-13T13:24:49.608794Z",
     "start_time": "2022-03-13T13:24:30.621340Z"
    }
   },
   "outputs": [],
   "source": [
    "lda = LinearDiscriminantAnalysis()\n",
    "lda_model = lda.fit(X_train, y_train)"
   ]
  },
  {
   "cell_type": "code",
   "execution_count": 8,
   "id": "skilled-seven",
   "metadata": {
    "ExecuteTime": {
     "end_time": "2022-03-13T13:24:49.729168Z",
     "start_time": "2022-03-13T13:24:49.613411Z"
    }
   },
   "outputs": [
    {
     "data": {
      "text/plain": [
       "{0, 1, 2, 3, 4, 5, 6, 7, 8, 9}"
      ]
     },
     "execution_count": 8,
     "metadata": {},
     "output_type": "execute_result"
    }
   ],
   "source": [
    "lda_predict = lda_model.predict(X_test)\n",
    "set(lda_predict)"
   ]
  },
  {
   "cell_type": "code",
   "execution_count": 9,
   "id": "basic-accuracy",
   "metadata": {
    "ExecuteTime": {
     "end_time": "2022-03-13T13:24:49.836933Z",
     "start_time": "2022-03-13T13:24:49.735391Z"
    },
    "scrolled": true
   },
   "outputs": [
    {
     "name": "stdout",
     "output_type": "stream",
     "text": [
      "              precision    recall  f1-score   support\n",
      "\n",
      "           0      0.786     0.813     0.799      1175\n",
      "           1      0.836     0.922     0.877      1322\n",
      "           2      0.565     0.525     0.544      1174\n",
      "           3      0.544     0.547     0.546      1219\n",
      "           4      0.623     0.696     0.657      1176\n",
      "           5      0.520     0.412     0.460      1104\n",
      "           6      0.544     0.648     0.592      1177\n",
      "           7      0.789     0.658     0.718      1299\n",
      "           8      0.588     0.599     0.594      1160\n",
      "           9      0.629     0.608     0.618      1194\n",
      "\n",
      "    accuracy                          0.647     12000\n",
      "   macro avg      0.642     0.643     0.640     12000\n",
      "weighted avg      0.647     0.647     0.645     12000\n",
      "\n"
     ]
    }
   ],
   "source": [
    "print(metrics.classification_report(y_test, lda_predict, digits=3))"
   ]
  },
  {
   "cell_type": "code",
   "execution_count": 10,
   "id": "stupid-botswana",
   "metadata": {
    "ExecuteTime": {
     "end_time": "2022-03-13T13:25:04.761295Z",
     "start_time": "2022-03-13T13:25:04.715981Z"
    }
   },
   "outputs": [
    {
     "data": {
      "text/plain": [
       "array([9, 6, 8, ..., 9, 3, 6])"
      ]
     },
     "execution_count": 10,
     "metadata": {},
     "output_type": "execute_result"
    }
   ],
   "source": [
    "kaggle_predict = lda_model.predict(flatten_test)\n",
    "kaggle_predict"
   ]
  },
  {
   "cell_type": "code",
   "execution_count": 36,
   "id": "fatty-handle",
   "metadata": {
    "ExecuteTime": {
     "end_time": "2022-03-13T03:26:17.616654Z",
     "start_time": "2022-03-13T03:26:17.335422Z"
    }
   },
   "outputs": [
    {
     "data": {
      "text/plain": [
       "<matplotlib.image.AxesImage at 0x7f931ad1ca90>"
      ]
     },
     "execution_count": 36,
     "metadata": {},
     "output_type": "execute_result"
    },
    {
     "data": {
      "image/png": "[encoded data removed]",
      "text/plain": [
       "<Figure size 432x288 with 1 Axes>"
      ]
     },
     "metadata": {},
     "output_type": "display_data"
    }
   ],
   "source": [
    "plt.imshow(flatten_test[1].reshape((28,28)))"
   ]
  },
  {
   "cell_type": "markdown",
   "id": "macro-providence",
   "metadata": {},
   "source": [
    "# Exporting data"
   ]
  },
  {
   "cell_type": "code",
   "execution_count": 13,
   "id": "separate-pilot",
   "metadata": {
    "ExecuteTime": {
     "end_time": "2022-03-13T13:29:34.414653Z",
     "start_time": "2022-03-13T13:29:34.399063Z"
    }
   },
   "outputs": [],
   "source": [
    "from sklearn.pipeline import Pipeline #cross validate different parameters"
   ]
  },
  {
   "cell_type": "code",
   "execution_count": 11,
   "id": "collective-applicant",
   "metadata": {
    "ExecuteTime": {
     "end_time": "2022-03-13T13:26:19.002635Z",
     "start_time": "2022-03-13T13:26:18.949721Z"
    }
   },
   "outputs": [],
   "source": [
    "export_df = pd.DataFrame({\"Id\":np.array(range(0,10000)),\n",
    "                          \"Category\": kaggle_predict})\n",
    "export_df.to_csv(\"sub7.csv\", index=False)"
   ]
  },
  {
   "cell_type": "code",
   "execution_count": 14,
   "id": "premium-working",
   "metadata": {
    "ExecuteTime": {
     "end_time": "2022-03-13T13:33:02.622281Z",
     "start_time": "2022-03-13T13:29:36.386267Z"
    }
   },
   "outputs": [
    {
     "name": "stdout",
     "output_type": "stream",
     "text": [
      "Best score: 0.8939999999999999\n",
      "Best PCA: 53\n"
     ]
    },
    {
     "data": {
      "image/png": "[encoded data removed]",
      "text/plain": [
       "<Figure size 864x432 with 1 Axes>"
      ]
     },
     "metadata": {},
     "output_type": "display_data"
    }
   ],
   "source": [
    "parameters = [{'pca__n_components':[46,47,48,49,50,51,52,53,54]}]\n",
    "# Realiza Grid Search\n",
    "cvfolds = 4\n",
    "pipe =  Pipeline([('pca', PCA()), ('qda', QuadraticDiscriminantAnalysis(store_covariance=True))])\n",
    "GS = GridSearchCV(estimator=pipe, param_grid=parameters, cv = cvfolds,\n",
    "                  return_train_score=True, n_jobs=-1)\n",
    "GS.fit(X_train,y_train)\n",
    "\n",
    "print('Best score:', GS.best_score_)\n",
    "#print('Best C:',GS.best_params_[\"svc__C\"])\n",
    "#print('Best Kernel:',GS.best_params_[\"svc__kernel\"])\n",
    "print('Best PCA:',GS.best_params_[\"pca__n_components\"])\n",
    "\n",
    "scores_mean = GS.cv_results_['mean_test_score']\n",
    "scores_sd = GS.cv_results_['std_test_score']\n",
    "scores_mean_tr = GS.cv_results_['mean_train_score']\n",
    "scores_sd_tr = GS.cv_results_['std_train_score']\n",
    "\n",
    "plt.style.use('seaborn-whitegrid')\n",
    "x_ax = list(range(0,len(scores_mean)))\n",
    "plt.rcParams['figure.figsize'] = (12, 6)\n",
    "plt.fill_between(x_ax, scores_mean - scores_sd, scores_mean + scores_sd,\n",
    "                 alpha=0.1, color='blue')\n",
    "\n",
    "plt.plot(x_ax, scores_mean, color='black',label='test')\n",
    "plt.scatter(np.argmax(scores_mean), scores_mean[np.argmax(scores_mean),],\n",
    "            s=300, linewidth=2, facecolors = 'none', edgecolors='red')\n",
    "plt.errorbar(x_ax, scores_mean_tr, yerr=scores_sd_tr, fmt='-o', color='gray',\n",
    "             ecolor='gray',label='train')\n",
    "plt.xlabel('Modelo',size=15)\n",
    "plt.ylabel('Score',size=15)\n",
    "plt.suptitle('Grid Search CV',size=20)\n",
    "plt.legend(loc=\"best\")\n",
    "plt.show()"
   ]
  },
  {
   "cell_type": "code",
   "execution_count": 15,
   "id": "piano-education",
   "metadata": {
    "ExecuteTime": {
     "end_time": "2022-03-13T13:33:03.789143Z",
     "start_time": "2022-03-13T13:33:02.627568Z"
    }
   },
   "outputs": [
    {
     "name": "stdout",
     "output_type": "stream",
     "text": [
      "AxesSubplot(0.125,0.125;0.62x0.755)\n",
      "              precision    recall  f1-score   support\n",
      "\n",
      "           0       0.99      0.94      0.97      1175\n",
      "           1       0.99      0.94      0.97      1322\n",
      "           2       0.82      0.94      0.87      1174\n",
      "           3       0.83      0.86      0.84      1219\n",
      "           4       0.90      0.91      0.90      1176\n",
      "           5       0.88      0.88      0.88      1104\n",
      "           6       0.91      0.88      0.89      1177\n",
      "           7       0.92      0.88      0.90      1299\n",
      "           8       0.88      0.87      0.87      1160\n",
      "           9       0.88      0.87      0.87      1194\n",
      "\n",
      "    accuracy                           0.90     12000\n",
      "   macro avg       0.90      0.90      0.90     12000\n",
      "weighted avg       0.90      0.90      0.90     12000\n",
      "\n"
     ]
    },
    {
     "data": {
      "image/png": "[encoded data removed]",
      "text/plain": [
       "<Figure size 720x720 with 2 Axes>"
      ]
     },
     "metadata": {},
     "output_type": "display_data"
    }
   ],
   "source": [
    "from sklearn import metrics\n",
    "import seaborn as sns\n",
    "y_predict = GS.predict(X_test)\n",
    "confusion_matrix = metrics.confusion_matrix(y_test, y_predict)\n",
    "fig, axs = plt.subplots(figsize=(10,10))\n",
    "print(sns.heatmap(confusion_matrix, annot=False, cmap=\"coolwarm\", xticklabels = True, yticklabels = True))\n",
    "print(metrics.classification_report(y_test, y_predict))"
   ]
  },
  {
   "cell_type": "code",
   "execution_count": 16,
   "id": "express-commander",
   "metadata": {
    "ExecuteTime": {
     "end_time": "2022-03-13T13:34:56.642845Z",
     "start_time": "2022-03-13T13:34:55.702625Z"
    }
   },
   "outputs": [],
   "source": [
    "flatten_test_pca = PCA(53).fit_transform(flatten_test)"
   ]
  },
  {
   "cell_type": "code",
   "execution_count": 18,
   "id": "turkish-characterization",
   "metadata": {
    "ExecuteTime": {
     "end_time": "2022-03-13T13:35:55.244522Z",
     "start_time": "2022-03-13T13:35:55.019287Z"
    }
   },
   "outputs": [
    {
     "data": {
      "text/plain": [
       "array([2, 2, 8, ..., 5, 2, 2])"
      ]
     },
     "execution_count": 18,
     "metadata": {},
     "output_type": "execute_result"
    }
   ],
   "source": [
    "kaggle_predict = GS.predict(flatten_test)\n",
    "kaggle_predict"
   ]
  },
  {
   "cell_type": "code",
   "execution_count": 19,
   "id": "celtic-association",
   "metadata": {
    "ExecuteTime": {
     "end_time": "2022-03-13T13:36:04.710219Z",
     "start_time": "2022-03-13T13:36:04.702139Z"
    }
   },
   "outputs": [
    {
     "data": {
      "text/plain": [
       "{0, 1, 2, 3, 4, 5, 6, 7, 8, 9}"
      ]
     },
     "execution_count": 19,
     "metadata": {},
     "output_type": "execute_result"
    }
   ],
   "source": [
    "set(kaggle_predict)"
   ]
  }
 ],
 "metadata": {
  "kernelspec": {
   "display_name": "Python (DS)",
   "language": "python",
   "name": "ds"
  },
  "language_info": {
   "codemirror_mode": {
    "name": "ipython",
    "version": 3
   },
   "file_extension": ".py",
   "mimetype": "text/x-python",
   "name": "python",
   "nbconvert_exporter": "python",
   "pygments_lexer": "ipython3",
   "version": "3.8.5"
  },
  "latex_envs": {
   "LaTeX_envs_menu_present": true,
   "autoclose": false,
   "autocomplete": true,
   "bibliofile": "biblio.bib",
   "cite_by": "apalike",
   "current_citInitial": 1,
   "eqLabelWithNumbers": true,
   "eqNumInitial": 1,
   "hotkeys": {
    "equation": "Ctrl-E",
    "itemize": "Ctrl-I"
   },
   "labels_anchors": false,
   "latex_user_defs": false,
   "report_style_numbering": false,
   "user_envs_cfg": false
  },
  "toc": {
   "base_numbering": 1,
   "nav_menu": {},
   "number_sections": true,
   "sideBar": true,
   "skip_h1_title": false,
   "title_cell": "Table of Contents",
   "title_sidebar": "Contents",
   "toc_cell": false,
   "toc_position": {},
   "toc_section_display": true,
   "toc_window_display": false
  }
 },
 "nbformat": 4,
 "nbformat_minor": 5
}
